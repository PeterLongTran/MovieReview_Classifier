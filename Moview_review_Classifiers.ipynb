{
 "cells": [
  {
   "cell_type": "markdown",
   "metadata": {
    "id": "FRznqjGFZ__i"
   },
   "source": [
    "**Assigment 1: Movie Review Classifiers**\n",
    "---\n",
    "*Author: Long Tran, Khang Pham*"
   ]
  },
  {
   "cell_type": "markdown",
   "metadata": {
    "id": "EDq1ToXvBSzs"
   },
   "source": [
    "# **1. Data Description and Analysis**"
   ]
  },
  {
   "cell_type": "markdown",
   "metadata": {
    "id": "3NcG5fheA6Aw"
   },
   "source": [
    "*Motivation*\n",
    "\n",
    "The dataset was chosen due to its compatibility with NLP techniques using supervised learning, since the dataset came with the review itself in text format, and its label. By using different text classification algorithms, the motivation of using this dataset is to achieve the most accurate prediction of whether or not the movie review is positive or negative.\n",
    "\n"
   ]
  },
  {
   "cell_type": "markdown",
   "metadata": {
    "id": "P6TvCwrEBLjR"
   },
   "source": [
    "*Objective and approach*\n",
    "\n",
    "The objective of the movie review classifiers is to train the model to predict whether the movie review is positive or negative based on provided training data (the review in the text format) combined with its corresponding label (pos/neg). The accuracy of the model using different approaches will be reported based on the train/test split validation.\n",
    "\n",
    "The classifier will be built using two different approaches, one of which will be using the Naives Bayes algorithm - a probabilistic algorithm that take advantage of probability theory and Bayes' Theorem to predict the tag of a text, the other one would be the Logistic Regression - which uses sigmoid function to become more roburst to outliers. Since those two algorithms are famously known for its effectiveness in text classfications model they would make a great fit for the movie reviews classifier model."
   ]
  },
  {
   "cell_type": "markdown",
   "metadata": {
    "id": "D1-3AbYGbNWX"
   },
   "source": [
    "- Importing and installing the necessarily packages for text processing and modelling."
   ]
  },
  {
   "cell_type": "code",
   "execution_count": 1,
   "metadata": {
    "id": "GzBWfmK8gipi"
   },
   "outputs": [
    {
     "ename": "ModuleNotFoundError",
     "evalue": "No module named 'plotly'",
     "output_type": "error",
     "traceback": [
      "\u001b[1;31m---------------------------------------------------------------------------\u001b[0m",
      "\u001b[1;31mModuleNotFoundError\u001b[0m                       Traceback (most recent call last)",
      "\u001b[1;32m<ipython-input-1-a81a31953d01>\u001b[0m in \u001b[0;36m<module>\u001b[1;34m\u001b[0m\n\u001b[0;32m      2\u001b[0m \u001b[1;32mimport\u001b[0m \u001b[0mnumpy\u001b[0m \u001b[1;32mas\u001b[0m \u001b[0mnp\u001b[0m\u001b[1;33m\u001b[0m\u001b[1;33m\u001b[0m\u001b[0m\n\u001b[0;32m      3\u001b[0m \u001b[1;32mimport\u001b[0m \u001b[0mnltk\u001b[0m\u001b[1;33m\u001b[0m\u001b[1;33m\u001b[0m\u001b[0m\n\u001b[1;32m----> 4\u001b[1;33m \u001b[1;32mimport\u001b[0m \u001b[0mplotly\u001b[0m\u001b[1;33m\u001b[0m\u001b[1;33m\u001b[0m\u001b[0m\n\u001b[0m\u001b[0;32m      5\u001b[0m \u001b[1;33m\u001b[0m\u001b[0m\n\u001b[0;32m      6\u001b[0m \u001b[1;33m\u001b[0m\u001b[0m\n",
      "\u001b[1;31mModuleNotFoundError\u001b[0m: No module named 'plotly'"
     ]
    }
   ],
   "source": [
    "import pandas as pd\n",
    "import numpy as np\n",
    "import nltk\n",
    "import plotly\n",
    "\n",
    "\n",
    "from nltk.tokenize import word_tokenize\n",
    "from nltk import pos_tag\n",
    "from nltk.stem import WordNetLemmatizer\n",
    "from sklearn import model_selection, preprocessing, linear_model, naive_bayes, metrics, svm\n",
    "from sklearn.feature_extraction.text import TfidfVectorizer, CountVectorizer\n",
    "from sklearn import decomposition, ensemble\n",
    "from sklearn.metrics import classification_report\n",
    "\n",
    "import pandas, xgboost, numpy, textblob, string\n",
    "from keras.preprocessing import text, sequence\n",
    "from keras import layers, models, optimizers\n",
    "from textblob import TextBlob\n",
    "\n",
    "pip install \"notebook>=5.3\" \"ipywidgets>=7.5\"\n",
    "import matplotlib.pyplot as plt\n"
   ]
  },
  {
   "cell_type": "code",
   "execution_count": null,
   "metadata": {
    "colab": {
     "base_uri": "https://localhost:8080/"
    },
    "id": "RP36pl1E30_z",
    "outputId": "d7ee7dc9-4d86-4a70-f6e8-fb1b452bb6a6"
   },
   "outputs": [],
   "source": [
    "nltk.download('punkt')\n",
    "nltk.download('wordnet')"
   ]
  },
  {
   "cell_type": "markdown",
   "metadata": {
    "id": "eYUDubwrCE-H"
   },
   "source": [
    "# **2. Data Process and Model Building**"
   ]
  },
  {
   "cell_type": "markdown",
   "metadata": {
    "id": "cB4MzZfocZg9"
   },
   "source": [
    "**Data Wrangling:**"
   ]
  },
  {
   "cell_type": "markdown",
   "metadata": {
    "id": "96LHHa4gnAsJ"
   },
   "source": [
    "- Import the moview_review dataset from Kaggle to Googla collab notebook\n",
    "\n",
    "\n"
   ]
  },
  {
   "cell_type": "code",
   "execution_count": 2,
   "metadata": {
    "colab": {
     "base_uri": "https://localhost:8080/"
    },
    "id": "ioSH-ANmkMGP",
    "outputId": "4f23cf26-8f02-47fc-bc72-0339d0d4354c"
   },
   "outputs": [
    {
     "name": "stdout",
     "output_type": "stream",
     "text": [
      "                                                text  tag\n",
      "0  films adapted from comic books have had plenty...  pos\n",
      "1  for starters , it was created by alan moore ( ...  pos\n",
      "2  to say moore and campbell thoroughly researche...  pos\n",
      "3  the book ( or \" graphic novel , \" if you will ...  pos\n",
      "4  in other words , don't dismiss this film becau...  pos\n"
     ]
    }
   ],
   "source": [
    "data=pd.read_csv('movie_review.csv')\n",
    "#data_logistic=pd.read_csv('movie_review.csv')\n",
    "\n",
    "#Choosing the text(x) and tag(y) for the model\n",
    "data=data.loc[:,['text','tag']]\n",
    "#data_logistic=data_logistic.loc[:,['text','tag']]\n",
    "print(data.head())"
   ]
  },
  {
   "cell_type": "markdown",
   "metadata": {
    "id": "8AakkliS26M6"
   },
   "source": [
    "**Data Visualization**"
   ]
  },
  {
   "cell_type": "code",
   "execution_count": null,
   "metadata": {
    "id": "65F-rKbK3KA-"
   },
   "outputs": [],
   "source": [
    "def preprocess(ReviewText):\n",
    "    ReviewText = ReviewText.str.replace(\"(<br/>)\", \"\")\n",
    "    ReviewText = ReviewText.str.replace('(<a).*(>).*(</a>)', '')\n",
    "    ReviewText = ReviewText.str.replace('(&amp)', '')\n",
    "    ReviewText = ReviewText.str.replace('(&gt)', '')\n",
    "    ReviewText = ReviewText.str.replace('(&lt)', '')\n",
    "    ReviewText = ReviewText.str.replace('(\\xa0)', ' ')  \n",
    "    return ReviewText\n",
    "\n",
    "data['text_clean'] = preprocess(data['text'])\n",
    "data['polarity'] = data['text_clean'].map(lambda text: TextBlob(text).sentiment.polarity)\n",
    "data['review_len'] = data['text_clean'].astype(str).apply(len)\n",
    "data['word_count'] = data['text_clean'].apply(lambda x: len(str(x).split()))"
   ]
  },
  {
   "cell_type": "code",
   "execution_count": null,
   "metadata": {
    "colab": {
     "base_uri": "https://localhost:8080/"
    },
    "id": "nvt6CK1X5BWv",
    "outputId": "13aa977f-efc8-4d8f-c06e-79b10d99df35"
   },
   "outputs": [
    {
     "name": "stdout",
     "output_type": "stream",
     "text": [
      "5 random reviews with the highest positive sentiment polarity: \n",
      "\n",
      "casting debbie reynolds as beatrice is perfect .\n",
      "i know this guy can act : he was awesome in \" raising arizona \" as goodman's partner in crime .\n",
      "perhaps the sinking is best summarized by one of the guggenheim's on-board the ship .\n",
      "perfect for viewers who can appreciate perverse comedy , this story never pulls its punches .\n",
      "but in combination with the horror aspect , the whodunit is a perfect counterpoint .\n"
     ]
    }
   ],
   "source": [
    "print('5 random reviews with the highest positive sentiment polarity: \\n')\n",
    "cl = data.loc[data.polarity == 1, ['text_clean']].sample(5).values\n",
    "for c in cl:\n",
    "    print(c[0])"
   ]
  },
  {
   "cell_type": "code",
   "execution_count": null,
   "metadata": {
    "colab": {
     "base_uri": "https://localhost:8080/"
    },
    "id": "xq3MPi-9LKjy",
    "outputId": "1face81f-bd4f-482b-be30-e285d0cde992"
   },
   "outputs": [
    {
     "name": "stdout",
     "output_type": "stream",
     "text": [
      "5 random reviews with the highest negative sentiment polarity: \n",
      "\n",
      "his films all seem to have one style , bleak .\n",
      "the story involves gibson being double-crossed by his partner ( who is a real bad guy , which made me wish that we could root for him ) over $70 , 000 .\n",
      "the lines the actresses come out with are completely horrible .\n",
      "color of night is the worst movie of the year .\n",
      "if de bont and screenwriter david self had let our minds fill in the blanks as to what was happening instead of showing us everything , it would have served to make the film terrifying .\n"
     ]
    }
   ],
   "source": [
    "print('5 random reviews with the highest negative sentiment polarity: \\n')\n",
    "cl = data.loc[data.polarity == -1, ['text_clean']].sample(5).values\n",
    "for c in cl:\n",
    "    print(c[0])"
   ]
  },
  {
   "cell_type": "code",
   "execution_count": null,
   "metadata": {
    "colab": {
     "base_uri": "https://localhost:8080/"
    },
    "id": "IEErpl5-6rLD",
    "outputId": "815cf0e6-d261-44fd-d156-cafd86cc5292"
   },
   "outputs": [
    {
     "name": "stdout",
     "output_type": "stream",
     "text": [
      "5 random reviews with the most neutral sentiment(zero) polarity: \n",
      "\n",
      "mr . cameron brings the ship to life in an almost literal sense .\n",
      "the only reason for watching is the actors .\n",
      "the radio explains that an overflying airplane started coming apart .\n",
      "snide underling at kim's office gets her come-uppance .\n",
      "they are somehow lost in time , as it loops uncontrollably back and forth .\n"
     ]
    }
   ],
   "source": [
    "print('5 random reviews with the most neutral sentiment(zero) polarity: \\n')\n",
    "cl = data.loc[data.polarity == 0, ['text']].sample(5).values\n",
    "for c in cl:\n",
    "    print(c[0])"
   ]
  },
  {
   "cell_type": "markdown",
   "metadata": {
    "id": "-f8hjEm86q6k"
   },
   "source": [
    "**The distribution of review sentiment polarity score**"
   ]
  },
  {
   "cell_type": "code",
   "execution_count": null,
   "metadata": {
    "colab": {
     "base_uri": "https://localhost:8080/",
     "height": 363
    },
    "id": "ScCEPKQ87do5",
    "outputId": "6ca09bd6-03da-4251-9dc2-14cb7f08a600"
   },
   "outputs": [
    {
     "data": {
      "image/png": "[encoded data removed]",
      "text/plain": [
       "<Figure size 576x396 with 1 Axes>"
      ]
     },
     "metadata": {
      "tags": []
     },
     "output_type": "display_data"
    }
   ],
   "source": [
    "plt.style.use('ggplot')\n",
    "plt.hist(data['polarity'],bins=40,edgecolor='black')\n",
    "plt.xlabel('Sentiment polarity score')\n",
    "plt.show()"
   ]
  },
  {
   "cell_type": "markdown",
   "metadata": {
    "id": "xU666JHQ7dW9"
   },
   "source": [
    "Vast majority of the sentiment polarity scores are greater than zero, means most of them are pretty positive. However, with this sentiment polarity score, most of the movie reviews are betweem -0.25 to 0.25. The maginute of the review is not too different for the categorize the review is positive or negative. The problem can lead to the quality of the model maybe not too good."
   ]
  },
  {
   "cell_type": "markdown",
   "metadata": {
    "id": "yFCNXN2o-Y-P"
   },
   "source": [
    "**The distribution review text lengths**"
   ]
  },
  {
   "cell_type": "code",
   "execution_count": null,
   "metadata": {
    "colab": {
     "base_uri": "https://localhost:8080/",
     "height": 363
    },
    "id": "h8EyQGVu-bvi",
    "outputId": "417c81f7-b0cd-4b57-ee33-bf237182c4ab"
   },
   "outputs": [
    {
     "data": {
      "image/png": "[encoded data removed]",
      "text/plain": [
       "<Figure size 576x396 with 1 Axes>"
      ]
     },
     "metadata": {
      "tags": []
     },
     "output_type": "display_data"
    }
   ],
   "source": [
    "plt.hist(data['review_len'],bins=40,edgecolor='black')\n",
    "plt.xlabel('Review Text Length Distribution')\n",
    "plt.show()"
   ]
  },
  {
   "cell_type": "markdown",
   "metadata": {
    "id": "-lrvMBNc_TEr"
   },
   "source": [
    "The majority of the text length is between 0-200 words for a comment."
   ]
  },
  {
   "cell_type": "markdown",
   "metadata": {
    "id": "BtBdiy8a-qzz"
   },
   "source": [
    "**The distribution of review word count**"
   ]
  },
  {
   "cell_type": "code",
   "execution_count": null,
   "metadata": {
    "colab": {
     "base_uri": "https://localhost:8080/",
     "height": 363
    },
    "id": "_7dIzFuL-YsO",
    "outputId": "83d5792b-ec29-4db8-a933-c4a4ae22ddea"
   },
   "outputs": [
    {
     "data": {
      "image/png": "[encoded data removed]",
      "text/plain": [
       "<Figure size 576x396 with 1 Axes>"
      ]
     },
     "metadata": {
      "tags": []
     },
     "output_type": "display_data"
    }
   ],
   "source": [
    "plt.hist(data['word_count'],bins=40,edgecolor='black')\n",
    "plt.xlabel('Review Text Word Count Distribution')\n",
    "plt.show()"
   ]
  },
  {
   "cell_type": "markdown",
   "metadata": {
    "id": "u_kK5JG6lnil"
   },
   "source": [
    "The majority of the word counts are from 0 to 50 words."
   ]
  },
  {
   "cell_type": "markdown",
   "metadata": {
    "id": "mxwNhXxbceUI"
   },
   "source": [
    "**Text Processing/Text Normalization**\n",
    "\n",
    "Natural language, as a human resource, tends to follow the inherent nature of its creator randomness.\n",
    "\n",
    "Computers are not so good at dealing with randomness (although this is being minimized with the use of Machine Learning Algorithms).\n",
    "\n",
    "When we normalize a natural language resource, we attempt to reduce the randomness in it, bringing it closer to a predefined “standard”. This helps into reducing the amount of different information that the computer has to deal, and therefore improves efficiency.\n",
    "\n",
    "In this review task, there are several fundamental techniques that we use to normalize the movie reviews for implementing some text classifier algorithms.\n",
    "\n",
    "\n",
    "\n",
    "1. Capital letter removal (often, working with lowercase words deliver better results. In some cases, however, capital letters are very important to extract information, like names and locations).\n",
    "2. Removal of duplicate whitespaces and punctuation\n",
    "3. Removal or substitution of special characters/emojis (e.g.: remove hashtags).\n",
    "4. Tokenzie the reviews\n",
    "5. Lemmatization the words\n"
   ]
  },
  {
   "cell_type": "code",
   "execution_count": null,
   "metadata": {
    "colab": {
     "base_uri": "https://localhost:8080/",
     "height": 204
    },
    "id": "vh5MlxIwmGGv",
    "outputId": "ff8dd6ed-bbf9-4653-994b-05efe11d6889"
   },
   "outputs": [
    {
     "data": {
      "text/html": [
       "<div>\n",
       "<style scoped>\n",
       "    .dataframe tbody tr th:only-of-type {\n",
       "        vertical-align: middle;\n",
       "    }\n",
       "\n",
       "    .dataframe tbody tr th {\n",
       "        vertical-align: top;\n",
       "    }\n",
       "\n",
       "    .dataframe thead th {\n",
       "        text-align: right;\n",
       "    }\n",
       "</style>\n",
       "<table border=\"1\" class=\"dataframe\">\n",
       "  <thead>\n",
       "    <tr style=\"text-align: right;\">\n",
       "      <th></th>\n",
       "      <th>text</th>\n",
       "      <th>tag</th>\n",
       "      <th>text_clean</th>\n",
       "      <th>polarity</th>\n",
       "      <th>review_len</th>\n",
       "      <th>word_count</th>\n",
       "    </tr>\n",
       "  </thead>\n",
       "  <tbody>\n",
       "    <tr>\n",
       "      <th>0</th>\n",
       "      <td>films adapted from comic books have had plenty...</td>\n",
       "      <td>pos</td>\n",
       "      <td>films adapted from comic books have had plenty...</td>\n",
       "      <td>0.175000</td>\n",
       "      <td>265</td>\n",
       "      <td>52</td>\n",
       "    </tr>\n",
       "    <tr>\n",
       "      <th>1</th>\n",
       "      <td>for starters , it was created by alan moore ( ...</td>\n",
       "      <td>pos</td>\n",
       "      <td>for starters  it was created by alan moore  an...</td>\n",
       "      <td>0.112121</td>\n",
       "      <td>172</td>\n",
       "      <td>36</td>\n",
       "    </tr>\n",
       "    <tr>\n",
       "      <th>2</th>\n",
       "      <td>to say moore and campbell thoroughly researche...</td>\n",
       "      <td>pos</td>\n",
       "      <td>to say moore and campbell thoroughly researche...</td>\n",
       "      <td>-0.130208</td>\n",
       "      <td>150</td>\n",
       "      <td>27</td>\n",
       "    </tr>\n",
       "    <tr>\n",
       "      <th>3</th>\n",
       "      <td>the book ( or \" graphic novel , \" if you will ...</td>\n",
       "      <td>pos</td>\n",
       "      <td>the book  or  graphic novel   if you will  is ...</td>\n",
       "      <td>0.150000</td>\n",
       "      <td>138</td>\n",
       "      <td>30</td>\n",
       "    </tr>\n",
       "    <tr>\n",
       "      <th>4</th>\n",
       "      <td>in other words , don't dismiss this film becau...</td>\n",
       "      <td>pos</td>\n",
       "      <td>in other words  dont dismiss this film because...</td>\n",
       "      <td>-0.125000</td>\n",
       "      <td>64</td>\n",
       "      <td>13</td>\n",
       "    </tr>\n",
       "  </tbody>\n",
       "</table>\n",
       "</div>"
      ],
      "text/plain": [
       "                                                text  ... word_count\n",
       "0  films adapted from comic books have had plenty...  ...         52\n",
       "1  for starters , it was created by alan moore ( ...  ...         36\n",
       "2  to say moore and campbell thoroughly researche...  ...         27\n",
       "3  the book ( or \" graphic novel , \" if you will ...  ...         30\n",
       "4  in other words , don't dismiss this film becau...  ...         13\n",
       "\n",
       "[5 rows x 6 columns]"
      ]
     },
     "execution_count": 54,
     "metadata": {
      "tags": []
     },
     "output_type": "execute_result"
    }
   ],
   "source": [
    "#Text cleaning\n",
    "#Normalization\n",
    "\n",
    "import re\n",
    "def  clean_text(df, text_field, new_text_field_name):\n",
    "    df[new_text_field_name] = df[text_field].str.lower()\n",
    "    #remove punctuation\n",
    "    df[new_text_field_name] = df[new_text_field_name].apply(lambda elem: re.sub(r\"(@[A-Za-z0-9]+)|([^0-9A-Za-z \\t])|(\\w+:\\/\\/\\S+)|^rt|http.+?\", \"\", elem))  \n",
    "    # remove numbers\n",
    "    df[new_text_field_name] = df[new_text_field_name].apply(lambda elem: re.sub(r\"\\d+\", \"\", elem))\n",
    "    return df\n",
    "    \n",
    "data=clean_text(data,'text','text_clean')\n",
    "data.head() "
   ]
  },
  {
   "cell_type": "code",
   "execution_count": null,
   "metadata": {
    "id": "_SCYk1zNe9iH"
   },
   "outputs": [],
   "source": [
    "#tokenizing the word from normalized text\n",
    "data['text_tokens'] = data['text_clean'].apply(lambda x: word_tokenize(x))\n",
    "def word_stemmer(text):\n",
    "    stem_text = [PorterStemmer().stem(i) for i in text]\n",
    "    return stem_text"
   ]
  },
  {
   "cell_type": "code",
   "execution_count": null,
   "metadata": {
    "id": "nFQVt9qesNbG"
   },
   "outputs": [],
   "source": [
    "#Lemmatization\n",
    "from nltk.stem import WordNetLemmatizer\n",
    "def word_lemmatizer(text):\n",
    "    lem_text = [WordNetLemmatizer().lemmatize(i) for i in text]\n",
    "    return lem_text\n",
    "\n",
    "data['text_tokens_lemma'] = data['text_tokens'].apply(lambda x: word_lemmatizer(x))"
   ]
  },
  {
   "cell_type": "code",
   "execution_count": null,
   "metadata": {
    "id": "-oNoPVRq1duX"
   },
   "outputs": [],
   "source": [
    "#Convert the 'text_token_lemma' to string for \n",
    "data['text_tokens_lemma_string']= [','.join(map(str, l)) for l in data['text_tokens_lemma']]"
   ]
  },
  {
   "cell_type": "code",
   "execution_count": null,
   "metadata": {
    "id": "mi49OYy0p_e9"
   },
   "outputs": [],
   "source": [
    "#Split the the x and y variable as the seperate columns for training the model\n",
    "x=data.text_tokens_lemma_string\n",
    "y=data.tag"
   ]
  },
  {
   "cell_type": "code",
   "execution_count": null,
   "metadata": {
    "id": "AtufOzZTqpX4"
   },
   "outputs": [],
   "source": [
    "# In this section, we use the train/split test method to train and validate the model\n",
    "# by default, this splits 75% training and 25% test\n",
    "# random_state=1 for reproducibility \n",
    "from sklearn.model_selection import train_test_split\n",
    "x_train,x_test,y_train,y_test= train_test_split(x,y,random_state=1)\n",
    "\n",
    "#label encode target variable\n",
    "encoder=preprocessing.LabelEncoder()\n",
    "y_train=encoder.fit_transform(y_train)\n",
    "y_test=encoder.fit_transform(y_test)"
   ]
  },
  {
   "cell_type": "markdown",
   "metadata": {
    "id": "Udecj-5feFtb"
   },
   "source": [
    "**Count Vectorization**\n",
    "\n",
    "This process basically breaks down sentences or paragraph in a text document into words (this process is also known as tokenization) and performs basic preprocessing to the text such as converting all words to lowercase, removing punctuation mark,...\n",
    "\n",
    "Count Vectorization then stores all of the word necessary after the tokenization process into a vector. Each word occurence in the text document will be counted and stored in correspondent with the word in an encoded vector in the end. \n",
    "\n"
   ]
  },
  {
   "cell_type": "code",
   "execution_count": null,
   "metadata": {
    "colab": {
     "base_uri": "https://localhost:8080/"
    },
    "id": "VS-B5o2syS1n",
    "outputId": "7a6d1bba-7492-4961-d991-7739ba61a25e"
   },
   "outputs": [
    {
     "data": {
      "text/plain": [
       "CountVectorizer(analyzer='word', binary=False, decode_error='strict',\n",
       "                dtype=<class 'numpy.int64'>, encoding='utf-8', input='content',\n",
       "                lowercase=True, max_df=1.0, max_features=None, min_df=1,\n",
       "                ngram_range=(1, 1), preprocessor=None, stop_words=None,\n",
       "                strip_accents=None, token_pattern='\\\\w{1,}', tokenizer=None,\n",
       "                vocabulary=None)"
      ]
     },
     "execution_count": 60,
     "metadata": {
      "tags": []
     },
     "output_type": "execute_result"
    }
   ],
   "source": [
    "# instantiate the \n",
    "vect= CountVectorizer(analyzer='word', token_pattern=r'\\w{1,}')\n",
    "vect.fit(data['text_tokens_lemma_string'])\n"
   ]
  },
  {
   "cell_type": "code",
   "execution_count": null,
   "metadata": {
    "id": "nfDuiBAqEMzu"
   },
   "outputs": [],
   "source": [
    "# Learn the training data vocabulary, then use it to create the document-term matrix\n",
    "# Then we fit the model\n",
    "# Then we transfrom the model in to the document-term matrix\n",
    "x_train_dtm=vect.transform(x_train)"
   ]
  },
  {
   "cell_type": "code",
   "execution_count": null,
   "metadata": {
    "colab": {
     "base_uri": "https://localhost:8080/"
    },
    "id": "WDG-gZ0Rtrty",
    "outputId": "0728e61a-be58-4a2b-c37b-99b80e369b19"
   },
   "outputs": [
    {
     "data": {
      "text/plain": [
       "<48540x41614 sparse matrix of type '<class 'numpy.int64'>'\n",
       "\twith 869170 stored elements in Compressed Sparse Row format>"
      ]
     },
     "execution_count": 62,
     "metadata": {
      "tags": []
     },
     "output_type": "execute_result"
    }
   ],
   "source": [
    "# Explore the document-term matrix\n",
    "x_train_dtm"
   ]
  },
  {
   "cell_type": "code",
   "execution_count": null,
   "metadata": {
    "id": "fe_NKFAHvJcx"
   },
   "outputs": [],
   "source": [
    "#transform testing data (using fitted vocabulary) into a document-term matrix\n",
    "x_test_dtm=vect.transform(x_test)"
   ]
  },
  {
   "cell_type": "markdown",
   "metadata": {
    "id": "Bk9jsAuyB1_A"
   },
   "source": [
    "# 3.Mode Selection and Model Evaluation"
   ]
  },
  {
   "cell_type": "markdown",
   "metadata": {
    "id": "bVg3S-rL1Pi2"
   },
   "source": [
    "*Model Building*"
   ]
  },
  {
   "cell_type": "markdown",
   "metadata": {
    "id": "yCDZzeprk9ip"
   },
   "source": [
    "> ***Naives Bayes Classifiers***\n",
    "\n"
   ]
  },
  {
   "cell_type": "code",
   "execution_count": null,
   "metadata": {
    "colab": {
     "base_uri": "https://localhost:8080/"
    },
    "id": "wUxqW2Uy3dx1",
    "outputId": "846e4a77-3a2b-4829-8c51-bf726aa5d7d7"
   },
   "outputs": [
    {
     "name": "stdout",
     "output_type": "stream",
     "text": [
      "0.7053152039555006\n"
     ]
    }
   ],
   "source": [
    "#fit the naives bayes classifiers to the dataset\n",
    "NB_classfier= naive_bayes.MultinomialNB()\n",
    "NB_classfier.fit(x_train_dtm,y_train)\n",
    "#predict the labels on validation dataset\n",
    "predictions_NB=NB_classfier.predict(x_test_dtm)\n",
    "\n",
    "#print the accuracy for NB classifiers\n",
    "print(metrics.accuracy_score(predictions_NB, y_test))"
   ]
  },
  {
   "cell_type": "markdown",
   "metadata": {
    "id": "0rO2lenBmFg6"
   },
   "source": [
    "The accuracy score of the naives bayes classifiers is 0.7053152039555006. It's quite an acceptible model for the first step."
   ]
  },
  {
   "cell_type": "markdown",
   "metadata": {
    "id": "llXTgU2glJD6"
   },
   "source": [
    "\n",
    "\n",
    "> ***Logistic Regression with Regularization***\n",
    "\n",
    "\n",
    "In this model,we use paramter C as our regularization parameter. Parameter C = 1/λ.\n",
    "\n",
    "Lambda (λ) controls the trade-off between allowing the model to increase it's complexity as much as it wants with trying to keep it simple. For example, if λ is very low or 0, the model will have enough power to increase it's complexity (overfit) by assigning big values to the weights for each parameter. If, in the other hand, we increase the value of λ, the model will tend to underfit, as the model will become too simple.\n",
    "\n",
    "Parameter C will work the other way around. For small values of C, we increase the regularization strength which will create simple models which underfit the data. For big values of C, we low the power of regularization which imples the model is allowed to increase it's complexity, and therefore, overfit the data.\n",
    "\n",
    "We will try to tuning the parameter C then find out which C will fit the data set better.\n",
    "\n",
    "\n"
   ]
  },
  {
   "cell_type": "code",
   "execution_count": null,
   "metadata": {
    "colab": {
     "base_uri": "https://localhost:8080/"
    },
    "id": "XiIs1RzCSS85",
    "outputId": "e49e0081-959f-4f2c-bcd2-4925abd1c709"
   },
   "outputs": [
    {
     "name": "stdout",
     "output_type": "stream",
     "text": [
      "The accuracy for logistic regression model with regularization C= 0.001 is 0.5974660074165636\n",
      "The accuracy for logistic regression model with regularization C= 0.01 is 0.6460444993819531\n",
      "The accuracy for logistic regression model with regularization C= 0.1 is 0.6861557478368356\n",
      "The accuracy for logistic regression model with regularization C= 1 is 0.6943139678615575\n",
      "The accuracy for logistic regression model with regularization C= 10 is 0.6790482076637825\n"
     ]
    },
    {
     "name": "stderr",
     "output_type": "stream",
     "text": [
      "/usr/local/lib/python3.7/dist-packages/sklearn/linear_model/_logistic.py:940: ConvergenceWarning:\n",
      "\n",
      "lbfgs failed to converge (status=1):\n",
      "STOP: TOTAL NO. of ITERATIONS REACHED LIMIT.\n",
      "\n",
      "Increase the number of iterations (max_iter) or scale the data as shown in:\n",
      "    https://scikit-learn.org/stable/modules/preprocessing.html\n",
      "Please also refer to the documentation for alternative solver options:\n",
      "    https://scikit-learn.org/stable/modules/linear_model.html#logistic-regression\n",
      "\n"
     ]
    }
   ],
   "source": [
    "c_param_range=[0.001,0.01,0.1,1,10]\n",
    "\n",
    "for i in c_param_range:\n",
    "  #fit the logistic classifiers to the dataset\n",
    "  Logistic_classfier_reg= linear_model.LogisticRegression(max_iter=1000,penalty='l2',C=i)\n",
    "  Logistic_classfier_reg.fit(x_train_dtm,y_train)\n",
    "  #predict the labels on validation dataset\n",
    "  predictions_LogReg=Logistic_classfier_reg.predict(x_test_dtm)\n",
    "\n",
    "  #print the accuracy for NB classifiers\n",
    "  print(\"The accuracy for logistic regression model with regularization C=\",i,\"is\", metrics.accuracy_score(predictions_LogReg, y_test))\n"
   ]
  },
  {
   "cell_type": "markdown",
   "metadata": {
    "id": "-VIMgsf0b7dd"
   },
   "source": [
    "> The result shows that the model with C=1 brings out the better result which is 0.6943139678615575. Then we will choose the logistic model with Regularization parameter C=1 for our model."
   ]
  },
  {
   "cell_type": "code",
   "execution_count": null,
   "metadata": {
    "id": "204fpCuXfj4F"
   },
   "outputs": [],
   "source": [
    "  #fit the logistic classifiers to the dataset\n",
    "  Logistic_classfier_reg= linear_model.LogisticRegression(max_iter=1000,penalty='l2',C=1)\n",
    "  Logistic_classfier_reg.fit(x_train_dtm,y_train)\n",
    "  #predict the labels on validation dataset\n",
    "  predictions_LogReg=Logistic_classfier_reg.predict(x_test_dtm)"
   ]
  },
  {
   "cell_type": "markdown",
   "metadata": {
    "id": "GjmpYlF4j0GU"
   },
   "source": [
    "*Model Evalulation*"
   ]
  },
  {
   "cell_type": "markdown",
   "metadata": {
    "id": "wqFJjZShj3N0"
   },
   "source": [
    "\n",
    "> **3.1. Classification report**\n",
    "\n"
   ]
  },
  {
   "cell_type": "markdown",
   "metadata": {
    "id": "8mhSHiZSj-32"
   },
   "source": [
    "*Naive Bayes Classifier*"
   ]
  },
  {
   "cell_type": "code",
   "execution_count": null,
   "metadata": {
    "colab": {
     "base_uri": "https://localhost:8080/"
    },
    "id": "jkpHtGHdkEMh",
    "outputId": "177a3809-59de-486a-b3f6-4e0717f50b4c"
   },
   "outputs": [
    {
     "name": "stdout",
     "output_type": "stream",
     "text": [
      "              precision    recall  f1-score   support\n",
      "\n",
      "           0       0.69      0.71      0.70      7862\n",
      "           1       0.72      0.70      0.71      8318\n",
      "\n",
      "    accuracy                           0.71     16180\n",
      "   macro avg       0.71      0.71      0.71     16180\n",
      "weighted avg       0.71      0.71      0.71     16180\n",
      "\n"
     ]
    }
   ],
   "source": [
    "#print classification report for NB classifiers\n",
    "print(classification_report(y_test,predictions_NB))"
   ]
  },
  {
   "cell_type": "markdown",
   "metadata": {
    "id": "Vz61KoyDqex2"
   },
   "source": [
    "*Logistic Regression*"
   ]
  },
  {
   "cell_type": "code",
   "execution_count": null,
   "metadata": {
    "colab": {
     "base_uri": "https://localhost:8080/"
    },
    "id": "N9_sxgzAqn6g",
    "outputId": "15dde2c7-5b13-47db-8be8-fe63a13c2ef4"
   },
   "outputs": [
    {
     "name": "stdout",
     "output_type": "stream",
     "text": [
      "              precision    recall  f1-score   support\n",
      "\n",
      "           0       0.68      0.70      0.69      7862\n",
      "           1       0.71      0.69      0.70      8318\n",
      "\n",
      "    accuracy                           0.69     16180\n",
      "   macro avg       0.69      0.69      0.69     16180\n",
      "weighted avg       0.69      0.69      0.69     16180\n",
      "\n"
     ]
    }
   ],
   "source": [
    "#print classification report for NB classifiers\n",
    "print(classification_report(y_test,predictions_LogReg))"
   ]
  },
  {
   "cell_type": "markdown",
   "metadata": {
    "id": "PF7gi5wRmeMy"
   },
   "source": [
    "Two models show similar accuracy scores for the movie review data set. \n",
    "In this case, this not really a big problem. The goal for the classification report is to check does it have any problem with the overfitting or underfitting under imbalanced dataset.\n",
    "\n",
    "The difference is not siginificant. The classification report for the two models show the result for those two model is around 70%.m This dataset is balanced. "
   ]
  },
  {
   "cell_type": "markdown",
   "metadata": {
    "id": "5hLthMJ5iz1N"
   },
   "source": [
    "\n",
    "\n",
    "> **3.2. Learning Curves**\n",
    "\n"
   ]
  },
  {
   "cell_type": "code",
   "execution_count": null,
   "metadata": {
    "colab": {
     "base_uri": "https://localhost:8080/"
    },
    "id": "_pw7_4xSizgD",
    "outputId": "fe45fe26-32fa-4cbc-a3b0-4868f8db90a0"
   },
   "outputs": [
    {
     "name": "stdout",
     "output_type": "stream",
     "text": [
      "Training scores:\n",
      "\n",
      " [[-0.         -0.         -0.         -0.         -0.        ]\n",
      " [-0.272      -0.054      -0.054      -0.054      -0.054     ]\n",
      " [-0.193      -0.068      -0.068      -0.068      -0.068     ]\n",
      " [-0.0998     -0.1104     -0.1104     -0.1104     -0.1104    ]\n",
      " [-0.1269     -0.126      -0.1276     -0.1276     -0.1276    ]\n",
      " [-0.15665    -0.15565    -0.1563     -0.156      -0.156     ]\n",
      " [-0.1748     -0.17133333 -0.1719     -0.17196667 -0.17123333]\n",
      " [-0.18361145 -0.18252987 -0.18198908 -0.18191183 -0.18291615]]\n",
      "\n",
      " ----------------------------------------------------------------------\n",
      "\n",
      "Validation scores:\n",
      "\n",
      " [[-0.49278945 -0.49278945 -0.49278945 -0.49278945 -0.49289246]\n",
      " [-0.49134734 -0.4631232  -0.46260816 -0.46260816 -0.46363824]\n",
      " [-0.47991347 -0.44880511 -0.44767202 -0.45241038 -0.45210136]\n",
      " [-0.36516275 -0.38174701 -0.37474248 -0.38298311 -0.37752369]\n",
      " [-0.34548826 -0.35300783 -0.34651834 -0.34785744 -0.35300783]\n",
      " [-0.31644005 -0.32426864 -0.31777915 -0.32406263 -0.32560775]\n",
      " [-0.30170993 -0.3104656  -0.3105686  -0.3131438  -0.30974454]\n",
      " [-0.29635352 -0.3053152  -0.30150391 -0.3105686  -0.30170993]]\n"
     ]
    }
   ],
   "source": [
    "from sklearn.model_selection import learning_curve\n",
    "# minimum sample size in our training set is 1 and maximum is 38832\n",
    "train_sizes = [1, 500, 1000, 5000, 10000, 20000,30000, 38832]\n",
    "# learning_curve function will return train_sizes, train_scores, validation_soces \n",
    "# which will later be used to plot the curve for each set\n",
    "train_sizes, train_scores, validation_scores = learning_curve(\n",
    "estimator = naive_bayes.MultinomialNB(),\n",
    "X = x_train_dtm,\n",
    "y = y_train, train_sizes = train_sizes, cv = 5,\n",
    "scoring = 'neg_mean_squared_error')\n",
    "\n",
    "# Training scores and validation scores shape\n",
    "print('Training scores:\\n\\n', train_scores)\n",
    "print('\\n', '-' * 70) # separator to make the output easy to read\n",
    "print('\\nValidation scores:\\n\\n', validation_scores)\n",
    "\n",
    "# Getting the mean of the error score for each training set size (1, 500, 1000,...,38882)\n",
    "# since we have 5 split (cv = 5) each score (one row) will be an average of 5 different fold\n",
    "# flip the sign of the scores so we can plot easily\n",
    "train_scores_mean = -train_scores.mean(axis = 1)\n",
    "validation_scores_mean = -validation_scores.mean(axis = 1)"
   ]
  },
  {
   "cell_type": "code",
   "execution_count": null,
   "metadata": {
    "colab": {
     "base_uri": "https://localhost:8080/",
     "height": 410
    },
    "id": "A1-13rcHTZ8c",
    "outputId": "a3aefb28-13d8-473d-fc0c-2bfca197c6c9"
   },
   "outputs": [
    {
     "data": {
      "text/plain": [
       "(0.0, 1.0)"
      ]
     },
     "execution_count": 70,
     "metadata": {
      "tags": []
     },
     "output_type": "execute_result"
    },
    {
     "data": {
      "image/png": "[encoded data removed]",
      "text/plain": [
       "<Figure size 576x396 with 1 Axes>"
      ]
     },
     "metadata": {
      "tags": []
     },
     "output_type": "display_data"
    }
   ],
   "source": [
    "import matplotlib.pyplot as plt\n",
    "\n",
    "plt.style.use('seaborn')\n",
    "plt.plot(train_sizes, train_scores_mean, label = 'Training error')\n",
    "plt.plot(train_sizes, validation_scores_mean, label = 'Validation error')\n",
    "plt.ylabel('MSE', fontsize = 14)\n",
    "plt.xlabel('Training set size', fontsize = 14)\n",
    "plt.title('Learning curves for a Naives Bayes Classifier model', fontsize = 18, y = 1.03)\n",
    "plt.legend()\n",
    "plt.ylim(0,1)"
   ]
  },
  {
   "cell_type": "markdown",
   "metadata": {
    "id": "CTgTWBv0Tzq5"
   },
   "source": [
    "First, the learning curve graph above indicates that MSE (error) is not extremely high. Second the 2 curve has not converged yet so there is still a gap in between them. This means that the learning curve is not ideal and the algorithm is suffering from high variance. Getting more training data is likely to help in this situation since the validation error could be reduced."
   ]
  },
  {
   "cell_type": "markdown",
   "metadata": {
    "id": "JeNmxrj2nteI"
   },
   "source": [
    "\n",
    "\n",
    "> Logistic *Regression*\n",
    "\n"
   ]
  },
  {
   "cell_type": "code",
   "execution_count": null,
   "metadata": {
    "colab": {
     "base_uri": "https://localhost:8080/"
    },
    "id": "aI31c5-Bn1vY",
    "outputId": "1c1263d6-69d3-494b-f9ba-640dac399ac7"
   },
   "outputs": [
    {
     "name": "stdout",
     "output_type": "stream",
     "text": [
      "Training scores:\n",
      "\n",
      " [[-0.         -0.         -0.         -0.         -0.        ]\n",
      " [-0.002      -0.012      -0.004      -0.012      -0.004     ]\n",
      " [-0.007      -0.015      -0.007      -0.01       -0.011     ]\n",
      " [-0.0404     -0.0478     -0.044      -0.0454     -0.0456    ]\n",
      " [-0.0704     -0.0714     -0.0686     -0.0697     -0.0735    ]\n",
      " [-0.10455    -0.10115    -0.1012     -0.105      -0.10115   ]\n",
      " [-0.1241     -0.12206667 -0.12243333 -0.11936667 -0.12136667]\n",
      " [-0.13354965 -0.13280284 -0.13334363 -0.13231356 -0.13174701]]\n",
      "\n",
      " ----------------------------------------------------------------------\n",
      "\n",
      "Validation scores:\n",
      "\n",
      " [[-0.52492789 -0.4934075  -0.50648949 -0.49268644 -0.50236918]\n",
      " [-0.45313144 -0.45014421 -0.43665019 -0.44746601 -0.46209312]\n",
      " [-0.43726823 -0.43119077 -0.43562011 -0.43737124 -0.44056448]\n",
      " [-0.38370416 -0.39266584 -0.38215904 -0.39235682 -0.39245983]\n",
      " [-0.35280181 -0.36073342 -0.36454471 -0.368356   -0.36948908]\n",
      " [-0.33693861 -0.34023486 -0.33807169 -0.34054388 -0.33910177]\n",
      " [-0.31736712 -0.32344458 -0.31953028 -0.32560775 -0.32303255]\n",
      " [-0.3119077  -0.31664607 -0.31510095 -0.31376185 -0.31458591]]\n"
     ]
    }
   ],
   "source": [
    "from sklearn.model_selection import learning_curve\n",
    "# minimum sample size in our training set is 1 and maximum is 38832\n",
    "train_sizes = [10, 500, 1000, 5000, 10000, 20000,30000, 38832]\n",
    "# learning_curve function will return train_sizes, train_scores, validation_soces \n",
    "# which will later be used to plot the curve for each set\n",
    "train_sizes_log, train_scores_log, validation_scores_log = learning_curve(\n",
    "estimator = linear_model.LogisticRegression(max_iter=500,penalty='l2',C=1),\n",
    "X = x_train_dtm,\n",
    "y = y_train, train_sizes = train_sizes, cv = 5,\n",
    "scoring = 'neg_mean_squared_error',shuffle=True)\n",
    "\n",
    "# Training scores and validation scores shape\n",
    "print('Training scores:\\n\\n', train_scores_log)\n",
    "print('\\n', '-' * 70) # separator to make the output easy to read\n",
    "print('\\nValidation scores:\\n\\n', validation_scores_log)\n",
    "\n",
    "# Getting the mean of the error score for each training set size (1, 500, 1000,...,38882)\n",
    "# since we have 5 split (cv = 5) each score (one row) will be an average of 5 different fold\n",
    "# flip the sign of the scores so we can plot easily\n",
    "train_scores_log_mean = -train_scores_log.mean(axis = 1)\n",
    "validation_scores_log_mean = -validation_scores_log.mean(axis = 1)"
   ]
  },
  {
   "cell_type": "code",
   "execution_count": null,
   "metadata": {
    "colab": {
     "base_uri": "https://localhost:8080/",
     "height": 410
    },
    "id": "3lzzELBv8IWZ",
    "outputId": "9fae7264-f154-400f-edfa-68547f987f7a"
   },
   "outputs": [
    {
     "data": {
      "text/plain": [
       "(0.0, 1.0)"
      ]
     },
     "execution_count": 72,
     "metadata": {
      "tags": []
     },
     "output_type": "execute_result"
    },
    {
     "data": {
      "image/png": "[encoded data removed]",
      "text/plain": [
       "<Figure size 576x396 with 1 Axes>"
      ]
     },
     "metadata": {
      "tags": []
     },
     "output_type": "display_data"
    }
   ],
   "source": [
    "plt.style.use('seaborn')\n",
    "plt.plot(train_sizes_log, train_scores_log_mean, label = 'Training error')\n",
    "plt.plot(train_sizes_log, validation_scores_log_mean, label = 'Validation error')\n",
    "plt.ylabel('MSE', fontsize = 14)\n",
    "plt.xlabel('Training set size', fontsize = 14)\n",
    "plt.title('Learning curves for a Logistic Classifier model', fontsize = 18, y = 1.03)\n",
    "plt.legend()\n",
    "plt.ylim(0,1)"
   ]
  },
  {
   "cell_type": "markdown",
   "metadata": {
    "id": "aB_bWa0yCaDb"
   },
   "source": [
    "# **4.Disscussion and Further Questions**"
   ]
  },
  {
   "cell_type": "markdown",
   "metadata": {
    "id": "IHUjrgQjnW_D"
   },
   "source": [
    "In reality, the Naives Bayes Classifiers and Logistic Regression are proved that they are really effective in the text classfication with binary outcome (positive and negative). With the accuracy result from the model above, we can see that those two algorithms perform really well with this moview review dataset. However, as we mentioned above, the data set with the majority of the reviews are neutral (-0.25 to 0.25 sentiment polarity scores). It maybe one of the biggest problems into the performence of the model.\n",
    "\n",
    "In the future, to enhance the performence for this movie review classifers, we can spend more efforts into processing the text. We need some more advanced tools to deal with this problem before applying any classifiers for better results.\n",
    "\n",
    "As we constructing the learning curve for training error and validation error. We can see that the algorithm is suffering from high variance since there is a gap between the two curves. With that being said, if we were to try to improve the model for future use, collecting more data would likely to help reducing the validation error and close the gap between training error and validation error curve.\n",
    "\n",
    "Moreover, the training time is longer for the logistic classifer than we expected. One of the reason is the hyper parameter tuning for regularized C. And another reason is to converge the cost function, it requires more iterations than default. One of the solution we might come in the future is stochastic or minibatch gradient descent for optimal training time."
   ]
  }
 ],
 "metadata": {
  "colab": {
   "collapsed_sections": [],
   "name": "AS1_LongTran,KhangPham.ipynb",
   "provenance": [],
   "toc_visible": true
  },
  "kernelspec": {
   "display_name": "Python 3",
   "language": "python",
   "name": "python3"
  },
  "language_info": {
   "codemirror_mode": {
    "name": "ipython",
    "version": 3
   },
   "file_extension": ".py",
   "mimetype": "text/x-python",
   "name": "python",
   "nbconvert_exporter": "python",
   "pygments_lexer": "ipython3",
   "version": "3.8.5"
  }
 },
 "nbformat": 4,
 "nbformat_minor": 1
}
